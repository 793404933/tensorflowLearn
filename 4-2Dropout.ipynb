{
 "cells": [
  {
   "cell_type": "code",
   "execution_count": null,
   "metadata": {
    "collapsed": true
   },
   "outputs": [],
   "source": [
    "#自己写入 加一层隐藏层\n",
    "import tensorflow as tf\n",
    "from tensorflow.examples.tutorials.mnist import input_data\n",
    "#载入数据集\n",
    "mnist = input_data.read_data_sets(\"C:\\\\Users\\\\Administrator\\\\Desktop\\\\MNIST_data\",one_hot=True)\n",
    "\n",
    "batch_size = 100\n",
    "n_batch = mnist.train.num_examples // batch_size\n",
    "#定义占位符\n",
    "x = tf.placeholder(tf.float32,[None,784])\n",
    "y = tf.placeholder(tf.float32,[None,10])\n",
    "keep_prob = tf.placeholder(tf.float32)\n",
    "\n",
    "#定义神经网络  （784，100） （100，10）\n",
    "# 定义神经网络中间层\n",
    "#stddev =0.1标准差 \n",
    "Weights_L1 = tf.Variable(tf.truncated_normal([784,2000],stddev=0.1))\n",
    "biases_L1 = tf.Variable(tf.zeros([1,2000])+0.1)\n",
    "Wx_plus_b_L1 = tf.matmul(x, Weights_L1) + biases_L1\n",
    "#激活函数\n",
    "L1 = tf.nn.tanh(Wx_plus_b_L1)\n",
    "#设置多少百分之多少的神经元是工作的；\n",
    "L1_drop = tf.nn.dropout(L1,keep_prob=keep_prob)\n",
    "\n",
    "\n",
    "\n",
    "#定义神经网络隐藏层\n",
    "Weights_L2 = tf.Variable(tf.truncated_normal([2000,2000],stddev=0.1))\n",
    "biases_L2 = tf.Variable(tf.zeros([1,2000])+0.1)\n",
    "Wx_plus_b_L2 = tf.matmul(L1_drop,Weights_L2)+biases_L2\n",
    "L2 =tf.nn.tanh(Wx_plus_b_L2)\n",
    "L2_drop = tf.nn.dropout(L2,keep_prob=keep_prob)\n",
    "\n",
    "Weights_L3 = tf.Variable(tf.truncated_normal([2000,1000],stddev=0.1))\n",
    "biases_L3 = tf.Variable(tf.zeros([1,1000])+0.1)\n",
    "Wx_plus_b_L3 = tf.matmul(L2_drop,Weights_L3)+biases_L3\n",
    "L3 =tf.nn.tanh(Wx_plus_b_L3)\n",
    "L3_drop = tf.nn.dropout(L3,keep_prob=keep_prob)\n",
    "\n",
    "Weights_L4 = tf.Variable(tf.truncated_normal([1000,10],stddev=0.1))\n",
    "biases_L4 = tf.Variable(tf.zeros([1,10])+0.1)\n",
    "\n",
    "prediction = tf.nn.softmax(tf.matmul(L3_drop,Weights_L4)+biases_L4)\n",
    "\n",
    "#定义二次损失函数\n",
    "# loss = tf.reduce_mean(tf.square(y-prediction))\n",
    "loss = tf.reduce_mean(tf.nn.softmax_cross_entropy_with_logits(labels=y,logits=prediction))\n",
    "# 使用梯度下降法\n",
    "train_step = tf.train.GradientDescentOptimizer(0.2).minimize(loss)\n",
    "#初始化变量\n",
    "init = tf.global_variables_initializer()\n",
    "\n",
    "# 定义求准确率的方法\n",
    "# tf.argmax比较参数  ；tf.argmax求标签最大的值，在那个位置，相当于标签\n",
    "# 结果存放在一个布尔型列表中\n",
    "correct_prediction = tf.equal(tf.argmax(y,axis = 1),tf.argmax(prediction,axis = 1))# argmax返回最大值所在位置\n",
    "# 求准确率\n",
    "# 转换格式tf.cast;然后求平均值即可得到准确率；\n",
    "accuracy = tf.reduce_mean(tf.cast(correct_prediction,tf.float32))\n",
    "with tf.Session() as sess:\n",
    "    sess.run(init)\n",
    "    for epoch in range(40):\n",
    "        for batch in range(n_batch):\n",
    "            #图片数据，图片标签；\n",
    "            batch_xs,batch_ys = mnist.train.next_batch(batch_size)\n",
    "            sess.run(train_step,feed_dict={x:batch_xs,y:batch_ys,keep_prob:0.7})\n",
    "        test_acc = sess.run(accuracy,feed_dict={x:mnist.test.images,y:mnist.test.labels,keep_prob:0.7})\n",
    "        train_acc = sess.run(accuracy,feed_dict={x:mnist.train.images,y:mnist.train.labels,keep_prob:1.0})\n",
    "        print(\"Iter\"+str(epoch)+\",Testing Accuracy:\"+str(acc)+\",Training Accuracy:\"+ str(train_acc))"
   ]
  },
  {
   "cell_type": "raw",
   "metadata": {},
   "source": []
  },
  {
   "cell_type": "code",
   "execution_count": 1,
   "metadata": {},
   "outputs": [
    {
     "name": "stderr",
     "output_type": "stream",
     "text": [
      "D:\\Anaconda\\lib\\site-packages\\h5py\\__init__.py:34: FutureWarning: Conversion of the second argument of issubdtype from `float` to `np.floating` is deprecated. In future, it will be treated as `np.float64 == np.dtype(float).type`.\n",
      "  from ._conv import register_converters as _register_converters\n"
     ]
    }
   ],
   "source": [
    "#自己写入 加一层隐藏层\n",
    "import tensorflow as tf\n",
    "from tensorflow.examples.tutorials.mnist import input_data"
   ]
  },
  {
   "cell_type": "code",
   "execution_count": null,
   "metadata": {
    "collapsed": true
   },
   "outputs": [],
   "source": []
  }
 ],
 "metadata": {
  "kernelspec": {
   "display_name": "Python 3",
   "language": "python",
   "name": "python3"
  },
  "language_info": {
   "codemirror_mode": {
    "name": "ipython",
    "version": 3
   },
   "file_extension": ".py",
   "mimetype": "text/x-python",
   "name": "python",
   "nbconvert_exporter": "python",
   "pygments_lexer": "ipython3",
   "version": "3.6.1"
  }
 },
 "nbformat": 4,
 "nbformat_minor": 2
}
