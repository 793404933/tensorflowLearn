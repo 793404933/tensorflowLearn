{
 "cells": [
  {
   "cell_type": "code",
   "execution_count": 1,
   "metadata": {},
   "outputs": [
    {
     "name": "stderr",
     "output_type": "stream",
     "text": [
      "D:\\Anaconda\\lib\\site-packages\\h5py\\__init__.py:34: FutureWarning: Conversion of the second argument of issubdtype from `float` to `np.floating` is deprecated. In future, it will be treated as `np.float64 == np.dtype(float).type`.\n",
      "  from ._conv import register_converters as _register_converters\n"
     ]
    },
    {
     "ename": "ModuleNotFoundError",
     "evalue": "No module named 'tensorflow.examples.tutorial'",
     "output_type": "error",
     "traceback": [
      "\u001b[1;31m---------------------------------------------------------------------------\u001b[0m",
      "\u001b[1;31mModuleNotFoundError\u001b[0m                       Traceback (most recent call last)",
      "\u001b[1;32m<ipython-input-1-44fc8fd3088f>\u001b[0m in \u001b[0;36m<module>\u001b[1;34m()\u001b[0m\n\u001b[0;32m      1\u001b[0m \u001b[1;32mimport\u001b[0m \u001b[0mtensorflow\u001b[0m \u001b[1;32mas\u001b[0m \u001b[0mtf\u001b[0m\u001b[1;33m\u001b[0m\u001b[0m\n\u001b[1;32m----> 2\u001b[1;33m \u001b[1;32mfrom\u001b[0m \u001b[0mtensorflow\u001b[0m\u001b[1;33m.\u001b[0m\u001b[0mexamples\u001b[0m\u001b[1;33m.\u001b[0m\u001b[0mtutorial\u001b[0m\u001b[1;33m.\u001b[0m\u001b[0mmnist\u001b[0m \u001b[1;32mimport\u001b[0m \u001b[0minput_data\u001b[0m\u001b[1;33m\u001b[0m\u001b[0m\n\u001b[0m",
      "\u001b[1;31mModuleNotFoundError\u001b[0m: No module named 'tensorflow.examples.tutorial'"
     ]
    }
   ],
   "source": [
    "import tensorflow as tf\n",
    "from tensorflow.examples.tutorial.mnist import input_data"
   ]
  },
  {
   "cell_type": "code",
   "execution_count": null,
   "metadata": {
    "collapsed": true
   },
   "outputs": [],
   "source": [
    "mnist = input_data.read_data_sets('C:\\\\Users\\\\Administrator\\\\Desktop\\\\MNIST_data',one_hot=True)\n",
    "\n",
    "# 每个批次的大小\n",
    "batch_size = 100\n",
    "#计算一共有多少个批次\n",
    "n_batch = mnist.train.num_examples // batch_size\n",
    "\n",
    "#初始化权值\n",
    "def weight_variable(shape):\n",
    "    initial = tf.truncated_normal(shape,stddev=0.1)#生成一个截断的正态分布\n",
    "    return tf.Variable(initial)\n",
    "\n",
    "# 初始化偏置\n",
    "def bias_variable(shape):\n",
    "    initial =tf.constant(0.1,shape=shape)\n",
    "    return tf.Variable(initial)\n",
    "\n",
    "# 卷积层 \n",
    "def conv2d(x,W):\n",
    "    # in_channels通道数，黑白图片为1，彩色为3\n",
    "    # x input tensor of shape '[batch,in_height,in_width,in_channels]'\n",
    "    # W （卷积核）filter /kernel tensor of shape [filter_height,filter_width.in_channels,out_channels]\n",
    "    #'strides[0] = strides[3] =1'.strides[1]代表x方向的步长，strides[2]代表y方向的步长\n",
    "    # padding:A 'string' from : \"SAME\",\"VALID\"\n",
    "    return tf.nn.conv2d(x,W,strides=[1,1,1,1],padding='SAME')\n",
    "# 池化层\n",
    "def max_pool_2x2(x):\n",
    "    #Ksize[1,x,y,1]  x,y代表窗口大小；\n",
    "    return tf.nn.max_pool(x,ksize=[1,2,2,1],strides[1,2,2,1],padding='SAME')\n",
    "\n",
    "# 定义两个placeholder\n",
    "x = tf.placeholder(tf.float32,[None,784]) # 28*28\n",
    "y = tf.placeholder(tf.float32,[None,10])\n",
    "\n",
    "#改变x的格式转为4D的向量[batch,in_height,in_width,in_channels]\n",
    "#-1代表批次大小\n",
    "x_image = tf.reshape(x,[-1,28,28,1])\n",
    "\n",
    "\n",
    "# 初始化第一个卷积层的权值和偏置\n",
    "# 1为通道数（黑白），输入为1个通道数，然后32个输出通道（说明其是32个卷积核，采样完后得到32个卷积核，得到32个特征图）；\n",
    "W_conv1 = weight_variable([5,5,1,32])# 5*5的采样窗口，32个卷积核从1个平面抽取特征\n",
    "b_conv1 = bias_variable([32])#每个卷积核一个偏置值\n",
    "\n",
    "# 把x_image和权值向量进行卷积，再加上偏置值，然后应用于relu激活函数\n",
    "h_conv1 = tf.nn.relu(conv2d(x_image,W_conv1)+b_conv1)\n",
    "h_pool1 = max_pool_2x2(h_conv1)#进行max_pooling\n",
    "\n",
    "# 初始化第二个卷积层的权值和偏置\n",
    "# 32 传入通道；64 传出通道；\n",
    "W_conv1 = weight_variable([5,5,32,64])# 5*5的采样窗口，64个卷积核从32个平面抽取特征\n",
    "b_conv1 = bias_variable([64])#每个卷积核一个偏置值\n",
    "\n",
    "#把h_pool1和权值向量进行卷积，再加上偏置值，然后应用于relu激活函数\n",
    "h_conv2 = tf.nn.relu(conv2d(h_pool1,W_conv2)+b_conv2)\n",
    "h_pool2 = max_pool_2x2(h_conv2)#进行max_pooling\n",
    "\n",
    "#28*28图片第一次卷积后还是28*28，第一次池化后变为14*14\n",
    "#第二次卷积后为14*14，第二次池化后变为了7*7\n",
    "#经过上面操作后得到64张7*7的平面；\n",
    "\n",
    "#初始化第一个全连接层的权值\n",
    "W_fc1 = weight_variable([7*7*64,1024])#上一场有7*7*64个神经元，全连接层有1024个神经元\n",
    "b_fc1 = bias_variable([1024])#1024个节点\n",
    "\n",
    "# 把池化层2的输出扁平化为1维\n",
    "# -1是任意值\n",
    "h_pool2_flat = tf.reshape(h_pool2,[-1,7*7*64])\n",
    "#求第一个全连接层的输出\n",
    "h_fc1 = tf.nn.relu(tf.matmul(h_pool2_flat,W_fc1)+b_fc1)\n",
    "\n",
    "# keep_prob 用来表示神经元的输出概率\n",
    "keep_prob = tf.placeholder(tf.float32)\n",
    "h_fc1_drop = tf.nn.dropout(h_fc1,keep_prob)\n",
    "\n",
    "# 初始化第二个全连接层\n",
    "W_fc2 = weight_variable([1024,10])\n",
    "b_fc2 = bias_variable([10])\n",
    "\n",
    "#计算输出\n",
    "prediction = tf.nn.sotfmax(tf.matmul(h_fc1_drop,W_fc2)+b_fc2)\n",
    "\n",
    "\n",
    "#交叉熵代缴函数\n",
    "cross_entropy  =  tf.reduce_mean(tf.nn.softmax_cross_entropy_with_logits(labels=y,logits=prediction))\n",
    "\n",
    "#使用AdamOptimizer进行优化\n",
    "train_step = tf.train.AdamOptimizer(1e-4).minimize(cross_entropy)\n",
    "#结果存放在一个布尔列表中\n",
    "# tf.argmax比较参数  ；tf.argmax求标签最大的值，在那个位置，相当于标签\n",
    "correct_prediction = tf.equal(tf.argmax(prediction,1),tf.argmax(y,1))\n",
    "#求准确率\n",
    "#tf.cast 求平均值\n",
    "accuracy = tf.reduce_mean(tf.cast(correct_prediction,tf.float32))\n",
    "\n",
    "with tf.Session() as sess:\n",
    "    #初始化\n",
    "    sess.run(tf.global_variables_initializer())\n",
    "    for epoch in range(21):\n",
    "        for batch in range(n_batch):\n",
    "            batch_xs,batch_ys = mnist.train.next_batch(batch_size)\n",
    "            sess.run(train_step,feed_dict ={x:batch_xs,y:batch_ys,keep_prob:0.7})\n",
    "        acc = sess.run(accuracy,feed_dic={x:mnist.test.images,y:mnist.test.labels,keep_prob:1.0})\n",
    "        print(\"Iter  :\"+str(epoch)+\",Testing Accuracy :\"+str(acc))"
   ]
  }
 ],
 "metadata": {
  "kernelspec": {
   "display_name": "Python 3",
   "language": "python",
   "name": "python3"
  },
  "language_info": {
   "codemirror_mode": {
    "name": "ipython",
    "version": 3
   },
   "file_extension": ".py",
   "mimetype": "text/x-python",
   "name": "python",
   "nbconvert_exporter": "python",
   "pygments_lexer": "ipython3",
   "version": "3.6.1"
  }
 },
 "nbformat": 4,
 "nbformat_minor": 2
}
