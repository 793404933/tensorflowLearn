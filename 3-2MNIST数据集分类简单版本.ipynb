{
 "cells": [
  {
   "cell_type": "code",
   "execution_count": 1,
   "metadata": {},
   "outputs": [
    {
     "data": {
      "text/plain": [
       "'\\n手写数据集和softmax函数的用法；\\nyann.lecun/exdb/mnist/\\nMINIST标签是0-9的数字，我们要把标签转化为“one-hot vectors”.一个one-hot\\n向量除了某一位数字是1以外，其他都为0；标签0，代表：[1,0,...,]\\n'"
      ]
     },
     "execution_count": 1,
     "metadata": {},
     "output_type": "execute_result"
    }
   ],
   "source": [
    "\"\"\"\n",
    "手写数据集和softmax函数的用法；\n",
    "yann.lecun/exdb/mnist/\n",
    "MINIST标签是0-9的数字，我们要把标签转化为“one-hot vectors”.一个one-hot\n",
    "向量除了某一位数字是1以外，其他都为0；标签0，代表：[1,0,...,]\n",
    "\"\"\" "
   ]
  },
  {
   "cell_type": "code",
   "execution_count": 6,
   "metadata": {
    "collapsed": true
   },
   "outputs": [],
   "source": [
    "import tensorflow as tf"
   ]
  },
  {
   "cell_type": "code",
   "execution_count": 7,
   "metadata": {
    "collapsed": true
   },
   "outputs": [],
   "source": [
    "from tensorflow.examples.tutorials.mnist import input_data"
   ]
  },
  {
   "cell_type": "code",
   "execution_count": 11,
   "metadata": {},
   "outputs": [
    {
     "name": "stdout",
     "output_type": "stream",
     "text": [
      "Extracting C:\\Users\\Administrator\\Desktop\\MNIST_data\\train-images-idx3-ubyte.gz\n",
      "Extracting C:\\Users\\Administrator\\Desktop\\MNIST_data\\train-labels-idx1-ubyte.gz\n",
      "Extracting C:\\Users\\Administrator\\Desktop\\MNIST_data\\t10k-images-idx3-ubyte.gz\n",
      "Extracting C:\\Users\\Administrator\\Desktop\\MNIST_data\\t10k-labels-idx1-ubyte.gz\n",
      "Iter0,Testing Accuracy:0.8248\n",
      "Iter1,Testing Accuracy:0.8949\n",
      "Iter2,Testing Accuracy:0.9024\n",
      "Iter3,Testing Accuracy:0.9056\n",
      "Iter4,Testing Accuracy:0.908\n",
      "Iter5,Testing Accuracy:0.9103\n",
      "Iter6,Testing Accuracy:0.9122\n",
      "Iter7,Testing Accuracy:0.9142\n",
      "Iter8,Testing Accuracy:0.9146\n",
      "Iter9,Testing Accuracy:0.9162\n",
      "Iter10,Testing Accuracy:0.9177\n",
      "Iter11,Testing Accuracy:0.9183\n",
      "Iter12,Testing Accuracy:0.9185\n",
      "Iter13,Testing Accuracy:0.9192\n",
      "Iter14,Testing Accuracy:0.9194\n",
      "Iter15,Testing Accuracy:0.9215\n",
      "Iter16,Testing Accuracy:0.9201\n",
      "Iter17,Testing Accuracy:0.921\n",
      "Iter18,Testing Accuracy:0.9219\n",
      "Iter19,Testing Accuracy:0.921\n",
      "Iter20,Testing Accuracy:0.9218\n"
     ]
    }
   ],
   "source": [
    "# 载入数据集\n",
    "mnist = input_data.read_data_sets(\"C:\\\\Users\\\\Administrator\\\\Desktop\\\\MNIST_data\",one_hot=True)\n",
    "\n",
    "#每个批次的大小\n",
    "batch_size = 100\n",
    "# 计算一共有多少个批次  //整除\n",
    "n_batch = mnist.train.num_examples // batch_size\n",
    "\n",
    "# 定义两个placeholder\n",
    "x = tf.placeholder(tf.float32, [None,784])\n",
    "y = tf.placeholder(tf.float32,[None,10])\n",
    "\n",
    "#创建一个简单的神经网络 输入层 784个神经元； 输出层10个标签\n",
    "W = tf.Variable(tf.zeros([784,10]))\n",
    "b = tf.Variable(tf.zeros(10,1))\n",
    "# 信号的总和；\n",
    "prediction = tf.nn.softmax(tf.matmul(x,W)+b)\n",
    "\n",
    "\n",
    "# 定义二次代价函数\n",
    "# loss = tf.reduce_mean(tf.square(y-prediction))\n",
    "loss = tf.reduce_mean(tf.nn.softmax_cross_entropy_with_logits(labels=y,logits=prediction))\n",
    "# 使用梯度下降法\n",
    "train_step = tf.train.GradientDescentOptimizer(0.2).minimize(loss)\n",
    "\n",
    "#初始化变量\n",
    "init = tf.global_variables_initializer()\n",
    "\n",
    "# 定义求准确率的方法\n",
    "# tf.argmax比较参数  ；tf.argmax求标签最大的值，在那个位置，相当于标签\n",
    "# 结果存放在一个布尔型列表中\n",
    "correct_prediction = tf.equal(tf.argmax(y,axis = 1),tf.argmax(prediction,axis = 1))# argmax返回最大值所在位置\n",
    "# 求准确率\n",
    "# 转换格式tf.cast;然后求平均值即可得到准确率；\n",
    "accuracy = tf.reduce_mean(tf.cast(correct_prediction,tf.float32))\n",
    "with tf.Session() as sess:\n",
    "    sess.run(init)\n",
    "    for epoch in range(21):\n",
    "        for batch in range(n_batch):\n",
    "            #图片数据，图片标签；\n",
    "            batch_xs,batch_ys = mnist.train.next_batch(batch_size)\n",
    "            sess.run(train_step,feed_dict={x:batch_xs,y:batch_ys})\n",
    "        acc = sess.run(accuracy,feed_dict={x:mnist.test.images,y:mnist.test.labels})\n",
    "        print(\"Iter\"+str(epoch)+\",Testing Accuracy:\"+str(acc))\n",
    "        \n",
    "        "
   ]
  },
  {
   "cell_type": "code",
   "execution_count": 5,
   "metadata": {},
   "outputs": [
    {
     "name": "stdout",
     "output_type": "stream",
     "text": [
      "Extracting C:\\Users\\Administrator\\Desktop\\MNIST_data\\train-images-idx3-ubyte.gz\n",
      "Extracting C:\\Users\\Administrator\\Desktop\\MNIST_data\\train-labels-idx1-ubyte.gz\n",
      "Extracting C:\\Users\\Administrator\\Desktop\\MNIST_data\\t10k-images-idx3-ubyte.gz\n",
      "Extracting C:\\Users\\Administrator\\Desktop\\MNIST_data\\t10k-labels-idx1-ubyte.gz\n",
      "Iter0,Testing Accuracy:0.9531\n",
      "Iter1,Testing Accuracy:0.9644\n",
      "Iter2,Testing Accuracy:0.9723\n",
      "Iter3,Testing Accuracy:0.976\n",
      "Iter4,Testing Accuracy:0.9747\n",
      "Iter5,Testing Accuracy:0.9776\n",
      "Iter6,Testing Accuracy:0.9793\n",
      "Iter7,Testing Accuracy:0.9766\n",
      "Iter8,Testing Accuracy:0.9795\n",
      "Iter9,Testing Accuracy:0.98\n",
      "Iter10,Testing Accuracy:0.9792\n",
      "Iter11,Testing Accuracy:0.9787\n",
      "Iter12,Testing Accuracy:0.9799\n",
      "Iter13,Testing Accuracy:0.9811\n",
      "Iter14,Testing Accuracy:0.9809\n",
      "Iter15,Testing Accuracy:0.9798\n",
      "Iter16,Testing Accuracy:0.9815\n",
      "Iter17,Testing Accuracy:0.9811\n",
      "Iter18,Testing Accuracy:0.9809\n",
      "Iter19,Testing Accuracy:0.9803\n",
      "Iter20,Testing Accuracy:0.9811\n",
      "Iter21,Testing Accuracy:0.981\n",
      "Iter22,Testing Accuracy:0.9804\n",
      "Iter23,Testing Accuracy:0.981\n",
      "Iter24,Testing Accuracy:0.9808\n",
      "Iter25,Testing Accuracy:0.9808\n",
      "Iter26,Testing Accuracy:0.9813\n",
      "Iter27,Testing Accuracy:0.9807\n",
      "Iter28,Testing Accuracy:0.9808\n",
      "Iter29,Testing Accuracy:0.9813\n",
      "Iter30,Testing Accuracy:0.9806\n",
      "Iter31,Testing Accuracy:0.9802\n",
      "Iter32,Testing Accuracy:0.9807\n",
      "Iter33,Testing Accuracy:0.9807\n",
      "Iter34,Testing Accuracy:0.9812\n",
      "Iter35,Testing Accuracy:0.981\n",
      "Iter36,Testing Accuracy:0.9804\n",
      "Iter37,Testing Accuracy:0.9807\n",
      "Iter38,Testing Accuracy:0.9808\n",
      "Iter39,Testing Accuracy:0.981\n",
      "Iter40,Testing Accuracy:0.9809\n",
      "Iter41,Testing Accuracy:0.9812\n",
      "Iter42,Testing Accuracy:0.9812\n",
      "Iter43,Testing Accuracy:0.9814\n",
      "Iter44,Testing Accuracy:0.9814\n",
      "Iter45,Testing Accuracy:0.981\n",
      "Iter46,Testing Accuracy:0.9807\n",
      "Iter47,Testing Accuracy:0.9815\n",
      "Iter48,Testing Accuracy:0.9805\n",
      "Iter49,Testing Accuracy:0.9813\n"
     ]
    }
   ],
   "source": [
    "#自己写入 加一层隐藏层\n",
    "import tensorflow as tf\n",
    "from tensorflow.examples.tutorials.mnist import input_data\n",
    "#载入数据集\n",
    "mnist = input_data.read_data_sets(\"C:\\\\Users\\\\Administrator\\\\Desktop\\\\MNIST_data\",one_hot=True)\n",
    "\n",
    "batch_size = 100\n",
    "n_batch = mnist.train.num_examples // batch_size\n",
    "#定义占位符\n",
    "x = tf.placeholder(tf.float32,[None,784])\n",
    "y = tf.placeholder(tf.float32,[None,10])\n",
    "#定义神经网络  （784，100） （100，10）\n",
    "# 定义神经网络中间层\n",
    "Weights_L1 = tf.Variable(tf.truncated_normal([784,200],stddev=0.1))\n",
    "biases_L1 = tf.Variable(tf.zeros([1,200])+0.1)\n",
    "Wx_plus_b_L1 = tf.matmul(x, Weights_L1) + biases_L1\n",
    "#激活函数\n",
    "L1 = tf.nn.relu(Wx_plus_b_L1)\n",
    "#定义神经网络输出层\n",
    "Weights_L2 = tf.Variable(tf.truncated_normal([200,10],stddev=0.1))\n",
    "biases_L2 = tf.Variable(tf.zeros([1,10])+0.1)\n",
    "L2 = tf.nn.relu(tf.matmul(L1,Weights_L2)+biases_L2)\n",
    "prediction = tf.nn.softmax(L2)\n",
    "#定义二次损失函数\n",
    "# loss = tf.reduce_mean(tf.square(y-prediction))\n",
    "loss = tf.reduce_mean(tf.nn.softmax_cross_entropy_with_logits(labels=y,logits=L2))\n",
    "# 使用梯度下降法\n",
    "#train_step = tf.train.GradientDescentOptimizer(0.2).minimize(loss)\n",
    "train_step = tf.train.MomentumOptimizer(0.2,momentum=0.5).minimize(loss)\n",
    "#初始化变量\n",
    "init = tf.global_variables_initializer()\n",
    "\n",
    "# 定义求准确率的方法\n",
    "# tf.argmax比较参数  ；tf.argmax求标签最大的值，在那个位置，相当于标签\n",
    "# 结果存放在一个布尔型列表中\n",
    "correct_prediction = tf.equal(tf.argmax(y,axis = 1),tf.argmax(prediction,axis = 1))# argmax返回最大值所在位置\n",
    "# 求准确率\n",
    "# 转换格式tf.cast;然后求平均值即可得到准确率；\n",
    "accuracy = tf.reduce_mean(tf.cast(correct_prediction,tf.float32))\n",
    "with tf.Session() as sess:\n",
    "    sess.run(init)\n",
    "    for epoch in range(50):\n",
    "        for batch in range(n_batch):\n",
    "            #图片数据，图片标签；\n",
    "            batch_xs,batch_ys = mnist.train.next_batch(batch_size)\n",
    "            sess.run(train_step,feed_dict={x:batch_xs,y:batch_ys})\n",
    "        acc = sess.run(accuracy,feed_dict={x:mnist.test.images,y:mnist.test.labels})\n",
    "        print(\"Iter\"+str(epoch)+\",Testing Accuracy:\"+str(acc))\n",
    "        "
   ]
  },
  {
   "cell_type": "code",
   "execution_count": 1,
   "metadata": {},
   "outputs": [
    {
     "name": "stderr",
     "output_type": "stream",
     "text": [
      "D:\\Anaconda\\lib\\site-packages\\h5py\\__init__.py:34: FutureWarning: Conversion of the second argument of issubdtype from `float` to `np.floating` is deprecated. In future, it will be treated as `np.float64 == np.dtype(float).type`.\n",
      "  from ._conv import register_converters as _register_converters\n"
     ]
    }
   ],
   "source": [
    "import tensorflow as tf\n",
    "from tensorflow.examples.tutorials.mnist import input_data\n",
    "        "
   ]
  },
  {
   "cell_type": "code",
   "execution_count": null,
   "metadata": {
    "collapsed": true
   },
   "outputs": [],
   "source": []
  }
 ],
 "metadata": {
  "kernelspec": {
   "display_name": "Python 3",
   "language": "python",
   "name": "python3"
  },
  "language_info": {
   "codemirror_mode": {
    "name": "ipython",
    "version": 3
   },
   "file_extension": ".py",
   "mimetype": "text/x-python",
   "name": "python",
   "nbconvert_exporter": "python",
   "pygments_lexer": "ipython3",
   "version": "3.6.1"
  }
 },
 "nbformat": 4,
 "nbformat_minor": 2
}
